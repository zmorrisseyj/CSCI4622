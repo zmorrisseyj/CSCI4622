{
 "cells": [
  {
   "cell_type": "code",
   "execution_count": 12,
   "id": "extreme-guyana",
   "metadata": {},
   "outputs": [],
   "source": [
    "import csv\n",
    "import math\n",
    "import pickle\n",
    "import gzip\n",
    "import random\n",
    "import numpy as np\n",
    "import pandas as pd\n",
    "import sklearn as sk\n",
    "import matplotlib.pylab as plt"
   ]
  },
  {
   "cell_type": "code",
   "execution_count": 13,
   "id": "oriental-development",
   "metadata": {},
   "outputs": [],
   "source": [
    "# read in data as pandas dataframe\n",
    "df = pd.read_csv('data/data_sanitized.csv')\n",
    "\n",
    "# drop a couple of different metrics\n",
    "del df['County']\n",
    "del df['Total Sum Cases']\n",
    "del df['Number of MIP Charges']\n",
    "\n",
    "# generate validation and training ids\n",
    "# ids are indices in df\n",
    "N = len(df)\n",
    "valid_ids = np.asarray(random.sample(range(N), int(N/5)))\n",
    "train_ids = np.asarray([i for i in range(N) if i not in valid_ids])\n",
    "\n",
    "# seperating labels from features\n",
    "X = np.asarray(df[['Days Since March 17', \n",
    "                 'Population', \n",
    "                 'Average Cases Per 7 Days', \n",
    "                 'Average Daily Change in Cases Per 7 Days', \n",
    "                 'Area of County']].copy())\n",
    "y = np.asarray(df[['New Cases per Day']].copy())"
   ]
  },
  {
   "cell_type": "code",
   "execution_count": 17,
   "id": "brilliant-sword",
   "metadata": {},
   "outputs": [],
   "source": [
    "from sklearn.ensemble import RandomForestClassifier\n",
    "from sklearn.ensemble import AdaBoostRegressor\n",
    "from sklearn.model_selection import train_test_split\n",
    "from sklearn.metrics import accuracy_score, explained_variance_score, precision_score\n",
    "\n",
    "# using train_test_split() to create train and test sets\n",
    "X_train, X_test, y_train, y_test = train_test_split(X, y, test_size=.2)"
   ]
  },
  {
   "cell_type": "code",
   "execution_count": 24,
   "id": "c8706587",
   "metadata": {},
   "outputs": [],
   "source": [
    "def check_accuracy(y_predict, y_true, variance=.1):\n",
    "    correct = 0\n",
    "\n",
    "    for i, j in enumerate(y_predict):\n",
    "        if abs(j-y_true[i]) <= (variance * y_true[i]): \n",
    "            correct += 1\n",
    "        \n",
    "    return correct / len(y_predict)"
   ]
  },
  {
   "cell_type": "markdown",
   "id": "721c6a19",
   "metadata": {},
   "source": [
    "**Random Forest**"
   ]
  },
  {
   "cell_type": "code",
   "execution_count": 30,
   "id": "64825873",
   "metadata": {},
   "outputs": [
    {
     "name": "stdout",
     "output_type": "stream",
     "text": [
      "4869\n",
      "Random Forest mean accuracy score: 0.536\n"
     ]
    }
   ],
   "source": [
    "rf = RandomForestClassifier(n_estimators=100)\n",
    "rf.fit(X_train, y_train.ravel())\n",
    "\n",
    "rf_pred = rf.predict(X_test)\n",
    "\n",
    "accuracy = check_accuracy(rf_pred, y_test)\n",
    "\n",
    "print(f'Random Forest mean accuracy score: {accuracy:.3}')"
   ]
  },
  {
   "cell_type": "markdown",
   "id": "24852add",
   "metadata": {},
   "source": [
    "**Adaboost**"
   ]
  },
  {
   "cell_type": "code",
   "execution_count": 31,
   "id": "268ea567",
   "metadata": {},
   "outputs": [
    {
     "name": "stdout",
     "output_type": "stream",
     "text": [
      "4869\n",
      "Adaboost mean accuracy score: 0.0474\n"
     ]
    }
   ],
   "source": [
    "ab = AdaBoostRegressor(n_estimators=100)\n",
    "ab.fit(X_train, y_train.ravel())\n",
    "\n",
    "ab_pred = ab.predict(X_test)\n",
    "\n",
    "accuracy = check_accuracy(ab_pred, y_test)\n",
    "\n",
    "print(f'Adaboost mean accuracy score: {accuracy:.3}')"
   ]
  }
 ],
 "metadata": {
  "kernelspec": {
   "display_name": "Python 3",
   "language": "python",
   "name": "python3"
  },
  "language_info": {
   "codemirror_mode": {
    "name": "ipython",
    "version": 3
   },
   "file_extension": ".py",
   "mimetype": "text/x-python",
   "name": "python",
   "nbconvert_exporter": "python",
   "pygments_lexer": "ipython3",
   "version": "3.8.8"
  }
 },
 "nbformat": 4,
 "nbformat_minor": 5
}
