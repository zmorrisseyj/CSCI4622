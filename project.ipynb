{
 "cells": [
  {
   "cell_type": "code",
   "execution_count": null,
   "id": "extreme-guyana",
   "metadata": {},
   "outputs": [],
   "source": [
    "import csv\n",
    "import math\n",
    "import pickle\n",
    "import gzip\n",
    "import random\n",
    "import numpy as np\n",
    "from numpy.polynomial import Polynomial\n",
    "import pandas as pd\n",
    "import matplotlib.pylab as plt"
   ]
  },
  {
   "cell_type": "code",
   "execution_count": null,
   "id": "oriental-development",
   "metadata": {},
   "outputs": [],
   "source": [
    "\n",
    "df = pd.read_csv('data/data_sanitized.csv')\n",
    "\n",
    "K = 10 #K! hyperparameter!\n",
    "N = len(df)\n",
    "valid_ids = np.asarray(random.sample(range(N), int(N/5)))\n",
    "train_ids = np.asarray([i for i in range(N) if i not in valid_ids])\n",
    "\n",
    "def distance(data1, data2, p, weights, ids):\n",
    "    return np.abs(np.sum((data1[ids].to_numpy()*weights-data2[ids].to_numpy()*weights)**p))**(1/p) #oi oi oi oi oi oi oi\n",
    "\n",
    "ids=[0,2,3,4,5,6,7,8]\n",
    "for i in train_ids:  #lloooooooooong runtime\n",
    "    for j in train_ids:\n",
    "        print(\" i: {} j: {} Distance: {}\".format(i,j,distance(df.iloc[j],df.iloc[i], 1, [1,1,1,1,1,1,1,1])))\n"
   ]
  },
  {
   "cell_type": "code",
   "execution_count": null,
   "id": "amino-convertible",
   "metadata": {},
   "outputs": [],
   "source": []
  },
  {
   "cell_type": "code",
   "execution_count": null,
   "id": "brilliant-sword",
   "metadata": {},
   "outputs": [],
   "source": []
  }
 ],
 "metadata": {
  "kernelspec": {
   "display_name": "Python 3",
   "language": "python",
   "name": "python3"
  },
  "language_info": {
   "codemirror_mode": {
    "name": "ipython",
    "version": 3
   },
   "file_extension": ".py",
   "mimetype": "text/x-python",
   "name": "python",
   "nbconvert_exporter": "python",
   "pygments_lexer": "ipython3",
   "version": "3.8.8"
  }
 },
 "nbformat": 4,
 "nbformat_minor": 5
}
