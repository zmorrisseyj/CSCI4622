{
 "cells": [
  {
   "cell_type": "code",
   "execution_count": 1,
   "id": "extreme-guyana",
   "metadata": {},
   "outputs": [],
   "source": [
    "import csv\n",
    "import math\n",
    "import pickle\n",
    "import gzip\n",
    "import random\n",
    "import numpy as np\n",
    "from numpy.polynomial import Polynomial\n",
    "import pandas as pd\n",
    "import matplotlib.pylab as plt"
   ]
  },
  {
   "cell_type": "code",
   "execution_count": 2,
   "id": "oriental-development",
   "metadata": {},
   "outputs": [
    {
     "name": "stdout",
     "output_type": "stream",
     "text": [
      "24344\n"
     ]
    }
   ],
   "source": [
    "\n",
    "df = pd.read_csv('data/data_sanitized.csv')\n",
    "\n",
    "K = 10 #K! hyperparameter!\n",
    "N = len(df)\n",
    "print(N)\n",
    "valid_ids = np.asarray(random.sample(range(N), int(N/5)))\n",
    "train_ids = np.asarray([i for i in range(N) if i not in valid_ids])\n",
    "\n",
    "def distance(data1, data2, p, weights, ids):\n",
    "    return np.abs(np.sum((data1[ids].to_numpy()*weights-data2[ids].to_numpy()*weights)**p))**(1/p) \n",
    "\n",
    "ids     = [0,2,3,4,5,6,7,8]\n",
    "weights = [1,1,1,1,1,1,1,1]\n",
    "#for i in train_ids:  #lloooooooooong runtime\n",
    "    #for j in train_ids:\n",
    "        #print(\" i: {} j: {} Distance: {}\".format(i,j,distance(df.iloc[j],df.iloc[i], 1, [1,1,1,1,1,1,1,1],ids)))\n"
   ]
  },
  {
   "cell_type": "code",
   "execution_count": 3,
   "id": "amino-convertible",
   "metadata": {},
   "outputs": [],
   "source": [
    "class covid_K_means:\n",
    "    def __init__(self,df,train_ids,valid_ids,feature_ids,weights,K,p,tol):\n",
    "        self.train_data  = df.iloc[train_ids] #training split\n",
    "        self.valid_data  = df.iloc[valid_ids] #validation split\n",
    "        self.predictions = np.zeros([len(valid_ids)]) #prediction array for validation\n",
    "        self.feature_ids = feature_ids #feature split (ran out of time to tune)\n",
    "        self.weights     = weights     #feature weights (ran out of time to tune)\n",
    "        self.clustroids  = self.train_data.sample(K,replace = False) #initial (random) k clustroids\n",
    "        self.centroids   = np.zeros([K,len(self.feature_ids)]) #array for k centroids\n",
    "        self.distances   = np.full([K],1000000) # distance array for clustering part\n",
    "        self.clusters    = [] #cluster list\n",
    "        self.labels      = [] #label list\n",
    "        self.k           = K  \n",
    "        self.p           = p\n",
    "        self.score_val   = 0\n",
    "        self.avg_dist    = 0\n",
    "        self.tol         = tol\n",
    "        for clustroid in self.clustroids: self.labels.append(clustroid)\n",
    "        for i in range(self.k): self.clusters.append([self.clustroids.iloc[i][self.labels]])\n",
    "            \n",
    "        \n",
    "        \n",
    "    def cluster(self):\n",
    "        for point_index in range(len(self.train_data)): #go over each data point\n",
    "            for j in range(self.k):                       # go through each clustroid\n",
    "                self.distances[j] = self.distance(self.train_data.iloc[point_index],self.clustroids.iloc[j],self.p,self.weights,self.feature_ids)  # and calculate distance to clustroid.\n",
    "            index = np.argmin(self.distances)                                     # Get the index of the closest clustroid\n",
    "            #print(\"assigned to cluster number:\",index, self.distances[index],self.distances)\n",
    "            self.clusters[index].append(self.train_data.iloc[point_index][self.labels])\n",
    "            \n",
    "                \n",
    "    def compute_centroids(self):\n",
    "        for index in range(self.k): #for each cluster\n",
    "            centroid  = np.zeros([len(self.feature_ids)]) #new centroid\n",
    "            distances = np.zeros([len(self.clusters[index])]) #distances for finding clustroid\n",
    "            \n",
    "            for point_index in range(len(self.clusters[index])): #go through each point in cluster\n",
    "                centroid = centroid + self.clusters[index][point_index][self.labels].to_numpy()[self.feature_ids] \n",
    "                #go through each data point so we can average, must loop since its a list\n",
    "            self.centroids[index] = centroid / len(self.clusters[index]) #averages the data points in each cluster by feature\n",
    "            \n",
    "            for jndex, point in enumerate(self.clusters[index]): #find clustroid\n",
    "                distances[jndex] = self.centroid_distance(point,self.centroids[index],self.p,self.weights,self.feature_ids)\n",
    "            jndex = np.argmin(distances)\n",
    "            self.clustroids[index] = self.clusters[index][jndex] #assign clustroid\n",
    "        for i in range(self.k): self.clusters.append([self.clustroids.iloc[i][self.labels]]) #start with centroids\n",
    "\n",
    "            \n",
    "    def distance(self, data1, data2, p, weights, ids): #p norm distance function \n",
    "        return np.abs(np.sum((data1[ids].to_numpy()*weights-data2[ids].to_numpy()*weights)**p))**(1/p) \n",
    "    \n",
    "    def centroid_distance(self, data1, data2, p, weights, ids): #used for dist to centroid\n",
    "        return np.abs(np.sum((data1[ids].to_numpy()*weights-data2*weights)**p))**(1/p) \n",
    "\n",
    "    \n",
    "    def fit(self): \n",
    "        cloysters = self.clusters \n",
    "        for i in range(1000):\n",
    "            self.cluster()      #cluster the data\n",
    "            self.compute_centroids() #compute new centroids\n",
    "            if cloysters == self.clusters: break # if the clusters didn't change, then we converged\n",
    "            cloysters = self.clusters # else, save the clusters so we can check next iteration\n",
    "        self.score() #score after we converge9\n",
    "            \n",
    "    def predict(self): #prediction with k clusters by finding nearest clustroid, then generating a guess by random sample of cluster\n",
    "        for point_index in range(len(self.valid_data)): #go over each data point\n",
    "            for j in range(self.k):                       # go through each clustroid\n",
    "                self.distances[j] = self.distance(self.valid_data.iloc[point_index],self.clustroids.iloc[j][self.labels],self.p,self.weights,self.feature_ids)  # and calculate distance to centroid.\n",
    "            index = np.argmin(self.distances) #finds clustroid\n",
    "            size = 5\n",
    "            if len(self.clusters[index])<5: size = self.clusters[index] #finds sample size if less than 5\n",
    "            sample = random.sample(self.clusters[index],size) #gets random sample\n",
    "            for i in sample: self.predictions[point_index] += i[self.labels[4]] \n",
    "            self.predictions[point_index]/=len(sample) #average the sample for our prediction\n",
    "    \n",
    "    \n",
    "    def score(self): #score counts the ratio of predictions within a certain tolerance of the real value\n",
    "        self.predict()\n",
    "        self.avg_dist_to_centroid()\n",
    "        score = 0\n",
    "        for i in range(len(self.predictions)):\n",
    "            dist_ratio = np.abs(self.predictions[i]-self.valid_data.iloc[i][self.labels[4]])/self.predictions[i]\n",
    "            if dist_ratio < self.tol:\n",
    "                score+=1\n",
    "        score/=len(self.predictions)\n",
    "        self.score_val = score\n",
    "        print(\"Score for\",self.k,\"clusters: \",score,\"(ratio of points within tolerance)\")\n",
    "    \n",
    "    \n",
    "    def avg_dist_to_centroid(self): #for elbow plot\n",
    "        dist = 0\n",
    "        for i in range(len(self.clusters)):\n",
    "            for j in range(int(len(self.clusters[i])/2)-1):\n",
    "                dist += self.distance(self.clusters[i][j], self.clustroids.iloc[i][self.labels], self.p,self.weights,self.feature_ids)\n",
    "        self.avg_dist = dist/len(self.train_data)\n",
    "        \n",
    "            \n",
    "        "
   ]
  },
  {
   "cell_type": "code",
   "execution_count": 4,
   "id": "9d558c45",
   "metadata": {},
   "outputs": [
    {
     "name": "stderr",
     "output_type": "stream",
     "text": [
      "<ipython-input-3-1d6533fb0799>:82: RuntimeWarning: invalid value encountered in double_scalars\n",
      "  dist_ratio = np.abs(self.predictions[i]-self.valid_data.iloc[i][self.labels[4]])/self.predictions[i]\n",
      "<ipython-input-3-1d6533fb0799>:82: RuntimeWarning: divide by zero encountered in double_scalars\n",
      "  dist_ratio = np.abs(self.predictions[i]-self.valid_data.iloc[i][self.labels[4]])/self.predictions[i]\n"
     ]
    },
    {
     "name": "stdout",
     "output_type": "stream",
     "text": [
      "Score for 2 clusters:  0.047041906327033686 (ratio of points within tolerance)\n",
      "Score for 6 clusters:  0.0585456039441249 (ratio of points within tolerance)\n",
      "Score for 12 clusters:  0.06183237469186524 (ratio of points within tolerance)\n",
      "Score for 24 clusters:  0.05608052588331964 (ratio of points within tolerance)\n",
      "Score for 64 clusters:  0.06491372226787182 (ratio of points within tolerance)\n",
      "Score for 150 clusters:  0.07210353327855382 (ratio of points within tolerance)\n",
      "Score for 365 clusters:  0.07210353327855382 (ratio of points within tolerance)\n"
     ]
    }
   ],
   "source": [
    "Ks = [2,6,12,24,64,150,365]\n",
    "k_clusters = []\n",
    "for k in Ks:\n",
    "    k_cluster = covid_K_means(df,train_ids,valid_ids,ids,weights,k,1,0.15)\n",
    "    k_cluster.fit()\n",
    "    k_clusters.append(k_cluster)\n",
    "    "
   ]
  },
  {
   "cell_type": "code",
   "execution_count": 6,
   "id": "95791f18",
   "metadata": {},
   "outputs": [
    {
     "data": {
      "text/plain": [
       "[<matplotlib.lines.Line2D at 0x1826b786c10>]"
      ]
     },
     "execution_count": 6,
     "metadata": {},
     "output_type": "execute_result"
    },
    {
     "data": {
      "image/png": "[encoded data removed]",
      "text/plain": [
       "<Figure size 432x288 with 2 Axes>"
      ]
     },
     "metadata": {
      "needs_background": "light"
     },
     "output_type": "display_data"
    }
   ],
   "source": [
    "scores = []\n",
    "elbows = []\n",
    "for k in k_clusters:\n",
    "    scores.append(k.score_val)\n",
    "    elbows.append(k.avg_dist)\n",
    "fig, axs = plt.subplots(2)\n",
    "fig.suptitle(\"[TOP] k (X) vs. accuracy (Y) \\n [BOTTOM] Elbow plot: k (X) vs. avg dist to clustroid (Y) \")\n",
    "axs[0].plot(Ks, scores)\n",
    "axs[1].plot(Ks, elbows)"
   ]
  },
  {
   "cell_type": "markdown",
   "id": "26f3fa2f",
   "metadata": {},
   "source": [
    "Details:\n",
    "\n",
    "This k means program clusters data points on manhattan distance using all features. The features are Days Since March 17, County, Population, Total Sum Cases, New Cases per Day, Average Cases Per 7 Days, Average Daily Change in Cases Per 7 Days, Area of County, and Number of MIP Charges. Since the manhattan distance is used and all features are equally weighted, we think that days since march 17 and total sum cases are skewinig the clusters since they chronologically increase. Further inquiry into performance would be to mess with feature dropout and random weighting to see what results in the highest accuracy. Runtimes for our 7 values of k with a single set of hyperparameters takes about 3 hours, so further tuning wasn't possible under our time constraints. These runtimes are to be expected because K means clustering is an NP-hard problem, so even for our relatively small data set we see long runtimes.\n",
    "\n",
    "K means is also not a supervised learning method, so predicting a value using K means was unclear and we settled on an intuitive but unproven method. This method is described in the code, but essentially averages a random sample from the closest cluster of points. \n",
    "\n",
    "\n",
    "Results:\n",
    "\n",
    "As we can see from our results, the accuracy had a significant positive correlation which is reassuring. Our elbow plot behaved as expected, further assuring the K means implementation is correct. The overall accuracy however is quite poor, ranging from 4% to 7% accuracy. This is obviously very poor, and a baseline that we would like to compare to is the random classifier. As mentioned in the details, we know that some features were bad. To get around this, we would want to run this with random feature sets to see which features behave poorly other than the ones we already suspect. Most likely we would run these random feature sets with $k = 24$ as suggested by our elbow plot. If we are still not satisfied after feature set tuning, we can then tune feature weights. "
   ]
  }
 ],
 "metadata": {
  "kernelspec": {
   "display_name": "Python 3",
   "language": "python",
   "name": "python3"
  },
  "language_info": {
   "codemirror_mode": {
    "name": "ipython",
    "version": 3
   },
   "file_extension": ".py",
   "mimetype": "text/x-python",
   "name": "python",
   "nbconvert_exporter": "python",
   "pygments_lexer": "ipython3",
   "version": "3.8.8"
  }
 },
 "nbformat": 4,
 "nbformat_minor": 5
}
