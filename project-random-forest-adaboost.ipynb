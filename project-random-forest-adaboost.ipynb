{
 "cells": [
  {
   "cell_type": "code",
   "execution_count": 1,
   "id": "0ce98043",
   "metadata": {},
   "outputs": [],
   "source": [
    "import csv\n",
    "import math\n",
    "import pickle\n",
    "import gzip\n",
    "import random\n",
    "import numpy as np\n",
    "import pandas as pd\n",
    "import sklearn as sk\n",
    "import matplotlib.pylab as plt"
   ]
  },
  {
   "cell_type": "code",
   "execution_count": 56,
   "id": "65dd944a",
   "metadata": {},
   "outputs": [],
   "source": [
    "# read in data as pandas dataframe\n",
    "df = pd.read_csv('data/data_sanitized.csv')\n",
    "\n",
    "# drop a couple of different metrics\n",
    "del df['County']\n",
    "del df['Total Sum Cases']\n",
    "del df['Number of MIP Charges']\n",
    "\n",
    "# generate validation and training ids\n",
    "# ids are indices in df\n",
    "N = len(df)\n",
    "valid_ids = np.asarray(random.sample(range(N), int(N/5)))\n",
    "train_ids = np.asarray([i for i in range(N) if i not in valid_ids])\n",
    "\n",
    "# seperating labels from features\n",
    "X = np.asarray(df[['Days Since March 17', \n",
    "                 'Population', \n",
    "                 'Average Cases Per 7 Days', \n",
    "                 'Average Daily Change in Cases Per 7 Days', \n",
    "                 'Area of County']].copy())\n",
    "y = np.asarray(df[['New Cases per Day']].copy())"
   ]
  },
  {
   "cell_type": "code",
   "execution_count": 3,
   "id": "0b99b028",
   "metadata": {},
   "outputs": [],
   "source": [
    "from sklearn.ensemble import RandomForestClassifier\n",
    "from sklearn.ensemble import AdaBoostClassifier\n",
    "from sklearn.model_selection import train_test_split\n",
    "from sklearn.metrics import accuracy_score, explained_variance_score, precision_score\n",
    "\n",
    "# using train_test_split() to create train and test sets\n",
    "X_train, X_test, y_train, y_test = train_test_split(X, y, test_size=.2)"
   ]
  },
  {
   "cell_type": "code",
   "execution_count": 26,
   "id": "3a2d70da",
   "metadata": {},
   "outputs": [],
   "source": [
    "# measure of predictions that lie within a margin of the actual\n",
    "def check_accuracy(y_predict, y_true, variance=.1):\n",
    "    correct = 0\n",
    "\n",
    "    for i, j in enumerate(y_predict):\n",
    "        if abs(j-y_true[i]) <= (variance * y_true[i]): \n",
    "            correct += 1\n",
    "        \n",
    "    return correct / len(y_predict)\n",
    "\n",
    "\n",
    "# measure of predictions that lie outside of a margin of the actual\n",
    "def check_inaccuracy(y_predict, y_true, variance=.5):\n",
    "    incorrect = 0\n",
    "\n",
    "    for i, j in enumerate(y_predict):\n",
    "        # print(abs(j-y_true[i]),(variance * y_true[i]))\n",
    "        if abs(j-y_true[i]) > (variance * y_true[i]): \n",
    "            incorrect += 1\n",
    "        \n",
    "    return incorrect / len(y_predict)"
   ]
  },
  {
   "cell_type": "markdown",
   "id": "12825212",
   "metadata": {},
   "source": [
    "**Finding Best Parameters for Random Forest**"
   ]
  },
  {
   "cell_type": "code",
   "execution_count": 43,
   "id": "ffcce7e2",
   "metadata": {},
   "outputs": [],
   "source": [
    "# define parameters to test\n",
    "estimators = [50, 100, 150]\n",
    "criteria = ['gini', 'entropy']\n",
    "bootstrapping = [True, False]\n",
    "\n",
    "n_estimators_list = []\n",
    "criteria_list = []\n",
    "bootstrapping_list = []\n",
    "accuracy_list = []\n",
    "inaccuracy_list = []\n",
    "\n",
    "for e in estimators:\n",
    "    for c in criteria:\n",
    "        for b in bootstrapping:\n",
    "            rf = RandomForestClassifier(n_estimators=e, criterion=c, bootstrap=b, n_jobs=-1)\n",
    "            rf.fit(X_train, y_train.ravel())\n",
    "\n",
    "            rf_pred = rf.predict(X_test)\n",
    "\n",
    "            a = check_accuracy(rf_pred, y_test, variance=.25)\n",
    "            i = check_inaccuracy(rf_pred, y_test, variance=.75)\n",
    "            \n",
    "            n_estimators_list.append(e)\n",
    "            criteria_list.append(c)\n",
    "            bootstrapping_list.append(b)\n",
    "            accuracy_list.append(a)\n",
    "            inaccuracy_list.append(i)"
   ]
  },
  {
   "cell_type": "code",
   "execution_count": 54,
   "id": "0c15a284",
   "metadata": {},
   "outputs": [
    {
     "name": "stdout",
     "output_type": "stream",
     "text": [
      "Highest Accuracy: 0.443\n",
      "Used  100  estimators\n",
      "Used  entropy  to measure the quality of the split\n",
      "Used bootstrapping?:  True\n",
      "Inaccuracy of Above: 0.373\n",
      "\n",
      "\n",
      "Lowest Inaccuracy: 0.334\n",
      "Used  50  estimators\n",
      "Used  gini  to measure the quality of the split\n",
      "Used bootstrapping?:  True\n",
      "Accuracy of Above: 0.403\n"
     ]
    }
   ],
   "source": [
    "# highest accuracy\n",
    "index_max = -1\n",
    "max = 0\n",
    "for j, i in enumerate(accuracy_list):\n",
    "    if i>max:\n",
    "        max = i\n",
    "        index_max = j\n",
    "\n",
    "# lowest inaccuracy\n",
    "index_min = 0\n",
    "min = inaccuracy_list[0]\n",
    "for j, i in enumerate(inaccuracy_list):\n",
    "    if i<min:\n",
    "        min = i\n",
    "        index_min = j\n",
    "        \n",
    "print(f'Highest Accuracy: {accuracy_list[index_max]:.3}')\n",
    "print('Used ', n_estimators_list[index_max], ' estimators')\n",
    "print('Used ', criteria_list[index_max], ' to measure the quality of the split')\n",
    "print('Used bootstrapping?: ', bootstrapping_list[index_max])\n",
    "\n",
    "print(f'Inaccuracy of Above: {inaccuracy_list[index_max]:.3}')\n",
    "\n",
    "print('\\n')\n",
    "\n",
    "print(f'Lowest Inaccuracy: {inaccuracy_list[index_min]:.3}')\n",
    "print('Used ', n_estimators_list[index_min], ' estimators')\n",
    "print('Used ', criteria_list[index_min], ' to measure the quality of the split')\n",
    "print('Used bootstrapping?: ', bootstrapping_list[index_min])\n",
    "\n",
    "print(f'Accuracy of Above: {accuracy_list[index_min]:.3}')"
   ]
  },
  {
   "cell_type": "markdown",
   "id": "c83e3a8b",
   "metadata": {},
   "source": [
    "**Finding Best Parameters for Adaboost**"
   ]
  },
  {
   "cell_type": "code",
   "execution_count": 47,
   "id": "ca3d6981",
   "metadata": {},
   "outputs": [],
   "source": [
    "# define parameters to test\n",
    "estimators = [50, 100, 150]\n",
    "learning_rate = np.linspace(.01, 2, 10)\n",
    "\n",
    "n_estimators_list = []\n",
    "learning_rate_list = []\n",
    "accuracy_list = []\n",
    "inaccuracy_list = []\n",
    "\n",
    "for e in estimators:\n",
    "    for l in learning_rate:\n",
    "        ab = AdaBoostClassifier(n_estimators=e, learning_rate=l)\n",
    "        ab.fit(X_train, y_train.ravel())\n",
    "\n",
    "        ab_pred = ab.predict(X_test)\n",
    "\n",
    "        a = check_accuracy(ab_pred, y_test, variance=.15)\n",
    "        i = check_inaccuracy(ab_pred, y_test, variance=.75)\n",
    "\n",
    "        n_estimators_list.append(e)\n",
    "        learning_rate_list.append(l)\n",
    "        accuracy_list.append(a)\n",
    "        inaccuracy_list.append(i)"
   ]
  },
  {
   "cell_type": "code",
   "execution_count": 52,
   "id": "dec668f3",
   "metadata": {},
   "outputs": [
    {
     "name": "stdout",
     "output_type": "stream",
     "text": [
      "Highest Accuracy: 0.443\n",
      "Used  100  estimators\n",
      "Used  0.01  as learning rate\n",
      "Inaccuracy of Above: 0.373\n",
      "\n",
      "\n",
      "Lowest Inaccuracy: 0.334\n",
      "Used  50  estimators\n",
      "Used  0.8944444444444445  as learning rate\n",
      "Accuracy of Above: 0.403\n"
     ]
    }
   ],
   "source": [
    "# highest accuracy\n",
    "index_max = -1\n",
    "max = 0\n",
    "for j, i in enumerate(accuracy_list):\n",
    "    if i>max:\n",
    "        max = i\n",
    "        index_max = j\n",
    "\n",
    "# lowest inaccuracy\n",
    "index_min = 0\n",
    "min = inaccuracy_list[0]\n",
    "for j, i in enumerate(inaccuracy_list):\n",
    "    if i<min:\n",
    "        min = i\n",
    "        index_min = j\n",
    "        \n",
    "print(f'Highest Accuracy: {accuracy_list[index_max]:.3}')\n",
    "print('Used ', n_estimators_list[index_max], ' estimators')\n",
    "print('Used ', learning_rate_list[index_max], ' as learning rate')\n",
    "print(f'Inaccuracy of Above: {inaccuracy_list[index_max]:.3}')\n",
    "\n",
    "print('\\n')\n",
    "\n",
    "print(f'Lowest Inaccuracy: {inaccuracy_list[index_min]:.3}')\n",
    "print('Used ', n_estimators_list[index_min], ' estimators')\n",
    "print('Used ', learning_rate_list[index_min], ' as learning rate')\n",
    "print(f'Accuracy of Above: {accuracy_list[index_min]:.3}')"
   ]
  },
  {
   "cell_type": "markdown",
   "id": "9282ec2f",
   "metadata": {},
   "source": [
    "**Predicting the Month of April**\n",
    "\n",
    "Using the results from above we are going to generate two estimations for the month of April, one seeking to minimize inaccuracy, and one seeking to maximize accuracy. We will be using Random Forest to generate this dataset since it had the \n",
    "\n",
    "Our highest accuracy used 100 estimators, entropy function to measure the quality of the split, and utilized bootstrapping.\n",
    "\n",
    "Our lowest inaccuracy used 50 estimators, gini function to measure the quality of the split, but also used bootstrapping."
   ]
  },
  {
   "cell_type": "code",
   "execution_count": 58,
   "id": "bb5e2f51",
   "metadata": {},
   "outputs": [],
   "source": [
    "# X and y still around from cell 2\n",
    "\n",
    "# read in april data as pandas dataframe\n",
    "df = pd.read_csv('data/data_sanitized_april.csv')\n",
    "\n",
    "# drop a couple of different metrics\n",
    "del df['County']\n",
    "del df['Total Sum Cases']\n",
    "del df['Number of MIP Charges']\n",
    "\n",
    "# seperating labels from features\n",
    "X_april = np.asarray(df[['Days Since March 17', \n",
    "                 'Population', \n",
    "                 'Average Cases Per 7 Days', \n",
    "                 'Average Daily Change in Cases Per 7 Days', \n",
    "                 'Area of County']].copy())\n",
    "y_april = np.asarray(df[['New Cases per Day']].copy())"
   ]
  },
  {
   "cell_type": "code",
   "execution_count": 61,
   "id": "9e5aa743",
   "metadata": {},
   "outputs": [
    {
     "name": "stdout",
     "output_type": "stream",
     "text": [
      "100 Estimators, Entropy, Bootstrapping\n",
      "accuracy:  0.5838541666666667\n",
      "inaccuracy:  0.26979166666666665\n",
      "\n",
      "\n",
      "50 Estimators, Gini, Bootstrapping\n",
      "accuracy:  0.5739583333333333\n",
      "inaccuracy:  0.26510416666666664\n"
     ]
    }
   ],
   "source": [
    "rf = RandomForestClassifier(n_estimators=100, criterion='entropy', bootstrap=True, n_jobs=-1)\n",
    "rf.fit(X, y.ravel())\n",
    "rf_pred = rf.predict(X_april)\n",
    "\n",
    "a1 = check_accuracy(rf_pred, y_april, variance=.25)\n",
    "i1 = check_inaccuracy(rf_pred, y_april, variance=.75)\n",
    "\n",
    "rf = RandomForestClassifier(n_estimators=50, criterion='gini', bootstrap=True, n_jobs=-1)\n",
    "rf.fit(X, y.ravel())\n",
    "rf_pred = rf.predict(X_april)\n",
    "\n",
    "a2 = check_accuracy(rf_pred, y_april, variance=.25)\n",
    "i2 = check_inaccuracy(rf_pred, y_april, variance=.75)\n",
    "\n",
    "print('100 Estimators, Entropy, Bootstrapping')\n",
    "print('accuracy: ', a1)\n",
    "print('inaccuracy: ', i1)\n",
    "\n",
    "print('\\n')\n",
    "\n",
    "print('50 Estimators, Gini, Bootstrapping')\n",
    "print('accuracy: ', a2)\n",
    "print('inaccuracy: ', i2)"
   ]
  },
  {
   "cell_type": "code",
   "execution_count": null,
   "id": "9bb98b47",
   "metadata": {},
   "outputs": [],
   "source": []
  }
 ],
 "metadata": {
  "kernelspec": {
   "display_name": "Python 3",
   "language": "python",
   "name": "python3"
  },
  "language_info": {
   "codemirror_mode": {
    "name": "ipython",
    "version": 3
   },
   "file_extension": ".py",
   "mimetype": "text/x-python",
   "name": "python",
   "nbconvert_exporter": "python",
   "pygments_lexer": "ipython3",
   "version": "3.8.8"
  }
 },
 "nbformat": 4,
 "nbformat_minor": 5
}
